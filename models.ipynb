{
 "cells": [
  {
   "cell_type": "code",
   "execution_count": 12,
   "metadata": {},
   "outputs": [],
   "source": [
    "import numpy as np\n",
    "import matplotlib.pyplot as plt\n",
    "import matplotlib.image as mpimg\n",
    "import tensorflow as tf\n",
    "import os,sys\n",
    "from PIL import Image\n",
    "import random\n",
    "import albumentations as albu\n",
    "import cv2\n",
    "import helper\n",
    "import pandas as pd \n",
    "import keras\n",
    "import h5py\n",
    "from keras import datasets, layers, models\n",
    "from tensorflow.keras.utils import to_categorical\n",
    "from tensorflow.keras import backend as K"
   ]
  },
  {
   "cell_type": "markdown",
   "metadata": {},
   "source": [
    "## Model 1 - baseline"
   ]
  },
  {
   "cell_type": "markdown",
   "metadata": {},
   "source": [
    "### Softmax for binary"
   ]
  },
  {
   "cell_type": "code",
   "execution_count": 2,
   "metadata": {},
   "outputs": [],
   "source": [
    "model1A = models.Sequential()\n",
    "\n",
    "model1A.add(layers.Conv2D(64, (3, 3), activation='relu', padding ='same' ,input_shape=(16, 16, 3)))\n",
    "model1A.add(layers.MaxPooling2D((2,2)))\n",
    "model1A.add(layers.Conv2D(64, (3, 3), activation='relu', padding ='same' ,input_shape=(16, 16, 3)))\n",
    "model1A.add(layers.MaxPooling2D((2,2)))\n",
    "\n",
    "model1A.add(layers.Conv2D(128, (3, 3), activation='relu', padding = 'same'))\n",
    "model1A.add(layers.MaxPooling2D((2, 2)))\n",
    "model1A.add(layers.Conv2D(128, (3, 3), activation='relu', padding = 'same'))\n",
    "model1A.add(layers.MaxPooling2D((2, 2)))\n",
    "\n",
    "model1A.add(layers.Conv2D(256, (3, 3), activation='relu', padding = 'same'))\n",
    "\n",
    "model1A.add(layers.Flatten())\n",
    "model1A.add(layers.Dense(1, activation='softmax'))"
   ]
  },
  {
   "cell_type": "markdown",
   "metadata": {},
   "source": [
    "### Sigmoid for binary"
   ]
  },
  {
   "cell_type": "code",
   "execution_count": 3,
   "metadata": {},
   "outputs": [],
   "source": [
    "model1B = models.Sequential()\n",
    "\n",
    "model1B.add(layers.Conv2D(64, (3, 3), activation='relu', padding ='same' ,input_shape=(16, 16, 3)))\n",
    "model1B.add(layers.MaxPooling2D((2,2)))\n",
    "model1B.add(layers.Conv2D(64, (3, 3), activation='relu', padding ='same' ,input_shape=(16, 16, 3)))\n",
    "model1B.add(layers.MaxPooling2D((2,2)))\n",
    "\n",
    "model1B.add(layers.Conv2D(128, (3, 3), activation='relu', padding = 'same'))\n",
    "model1B.add(layers.MaxPooling2D((2, 2)))\n",
    "model1B.add(layers.Conv2D(128, (3, 3), activation='relu', padding = 'same'))\n",
    "model1B.add(layers.MaxPooling2D((2, 2)))\n",
    "\n",
    "model1B.add(layers.Conv2D(256, (3, 3), activation='relu', padding = 'same'))\n",
    "\n",
    "model1B.add(layers.Flatten())\n",
    "model1B.add(layers.Dense(1, activation='sigmoid'))"
   ]
  },
  {
   "cell_type": "markdown",
   "metadata": {},
   "source": [
    "### Softmax for categorical crossentropy"
   ]
  },
  {
   "cell_type": "code",
   "execution_count": 4,
   "metadata": {},
   "outputs": [],
   "source": [
    "model1C = models.Sequential()\n",
    "\n",
    "model1C.add(layers.Conv2D(64, (3, 3), activation='relu', padding ='same' ,input_shape=(16, 16, 3)))\n",
    "model1C.add(layers.MaxPooling2D((2,2)))\n",
    "model1C.add(layers.Conv2D(64, (3, 3), activation='relu', padding ='same' ,input_shape=(16, 16, 3)))\n",
    "model1C.add(layers.MaxPooling2D((2,2)))\n",
    "\n",
    "model1C.add(layers.Conv2D(128, (3, 3), activation='relu', padding = 'same'))\n",
    "model1C.add(layers.MaxPooling2D((2, 2)))\n",
    "model1C.add(layers.Conv2D(128, (3, 3), activation='relu', padding = 'same'))\n",
    "model1C.add(layers.MaxPooling2D((2, 2)))\n",
    "\n",
    "model1C.add(layers.Conv2D(256, (3, 3), activation='relu', padding = 'same'))\n",
    "\n",
    "model1C.add(layers.Flatten())\n",
    "model1C.add(layers.Dense(2, activation='softmax'))"
   ]
  },
  {
   "cell_type": "markdown",
   "metadata": {},
   "source": [
    "### Sigmoid for categorical"
   ]
  },
  {
   "cell_type": "code",
   "execution_count": 5,
   "metadata": {},
   "outputs": [],
   "source": [
    "model1D = models.Sequential()\n",
    "\n",
    "model1D.add(layers.Conv2D(64, (3, 3), activation='relu', padding ='same' ,input_shape=(16, 16, 3)))\n",
    "model1D.add(layers.MaxPooling2D((2,2)))\n",
    "model1D.add(layers.Conv2D(64, (3, 3), activation='relu', padding ='same' ,input_shape=(16, 16, 3)))\n",
    "model1D.add(layers.MaxPooling2D((2,2)))\n",
    "\n",
    "model1D.add(layers.Conv2D(128, (3, 3), activation='relu', padding = 'same'))\n",
    "model1D.add(layers.MaxPooling2D((2, 2)))\n",
    "model1D.add(layers.Conv2D(128, (3, 3), activation='relu', padding = 'same'))\n",
    "model1D.add(layers.MaxPooling2D((2, 2)))\n",
    "\n",
    "model1D.add(layers.Conv2D(256, (3, 3), activation='relu', padding = 'same'))\n",
    "\n",
    "model1D.add(layers.Flatten())\n",
    "model1D.add(layers.Dense(1, activation='sigmoid'))"
   ]
  },
  {
   "cell_type": "markdown",
   "metadata": {},
   "source": [
    "## Model 2 - leaky relu"
   ]
  },
  {
   "cell_type": "code",
   "execution_count": 6,
   "metadata": {},
   "outputs": [],
   "source": [
    "lrelu = lambda x: tf.keras.activations.relu(x, alpha=0.1)"
   ]
  },
  {
   "cell_type": "markdown",
   "metadata": {},
   "source": [
    "### Softmax for binary"
   ]
  },
  {
   "cell_type": "code",
   "execution_count": 7,
   "metadata": {},
   "outputs": [],
   "source": [
    "model2A = models.Sequential()\n",
    "\n",
    "model2A.add(layers.Conv2D(64, (3, 3), activation=lrelu, padding ='same' ,input_shape=(16, 16, 3)))\n",
    "model2A.add(layers.MaxPooling2D((2,2)))\n",
    "model2A.add(layers.Conv2D(64, (3, 3), activation=lrelu, padding = 'same'))\n",
    "model2A.add(layers.MaxPooling2D((2, 2)))\n",
    "\n",
    "model2A.add(layers.Conv2D(128, (3, 3), activation=lrelu, padding = 'same'))\n",
    "model2A.add(layers.MaxPooling2D((2, 2)))\n",
    "model2A.add(layers.Conv2D(128, (3, 3), activation=lrelu, padding = 'same'))\n",
    "model2A.add(layers.MaxPooling2D((2, 2)))\n",
    "\n",
    "model2A.add(layers.Conv2D(256, (3, 3), activation=lrelu, padding = 'same'))\n",
    "\n",
    "model2A.add(layers.Flatten())\n",
    "model2A.add(layers.Dense(1, activation='softmax'))"
   ]
  },
  {
   "cell_type": "markdown",
   "metadata": {},
   "source": [
    "### Softmax for categorical "
   ]
  },
  {
   "cell_type": "code",
   "execution_count": 8,
   "metadata": {},
   "outputs": [],
   "source": [
    "model2B = models.Sequential()\n",
    "\n",
    "model2B.add(layers.Conv2D(64, (3, 3), activation=lrelu, padding ='same' ,input_shape=(16, 16, 3)))\n",
    "model2B.add(layers.MaxPooling2D((2,2)))\n",
    "model2B.add(layers.Conv2D(64, (3, 3), activation=lrelu, padding = 'same'))\n",
    "model2B.add(layers.MaxPooling2D((2, 2)))\n",
    "\n",
    "model2B.add(layers.Conv2D(128, (3, 3), activation=lrelu, padding = 'same'))\n",
    "model2B.add(layers.MaxPooling2D((2, 2)))\n",
    "model2B.add(layers.Conv2D(128, (3, 3), activation=lrelu, padding = 'same'))\n",
    "model2B.add(layers.MaxPooling2D((2, 2)))\n",
    "\n",
    "model2B.add(layers.Conv2D(256, (3, 3), activation=lrelu, padding = 'same'))\n",
    "\n",
    "model2B.add(layers.Flatten())\n",
    "model2B.add(layers.Dense(2, activation='softmax'))"
   ]
  },
  {
   "cell_type": "markdown",
   "metadata": {},
   "source": [
    "### Sigmoid for binary "
   ]
  },
  {
   "cell_type": "code",
   "execution_count": 9,
   "metadata": {},
   "outputs": [],
   "source": [
    "model2C = models.Sequential()\n",
    "\n",
    "model2C.add(layers.Conv2D(64, (3, 3), activation=lrelu, padding ='same' ,input_shape=(16, 16, 3)))\n",
    "model2C.add(layers.MaxPooling2D((2,2)))\n",
    "model2C.add(layers.Conv2D(64, (3, 3), activation=lrelu, padding = 'same'))\n",
    "model2C.add(layers.MaxPooling2D((2, 2)))\n",
    "\n",
    "model2C.add(layers.Conv2D(128, (3, 3), activation=lrelu, padding = 'same'))\n",
    "model2C.add(layers.MaxPooling2D((2, 2)))\n",
    "model2C.add(layers.Conv2D(128, (3, 3), activation=lrelu, padding = 'same'))\n",
    "model2C.add(layers.MaxPooling2D((2, 2)))\n",
    "\n",
    "model2C.add(layers.Conv2D(256, (3, 3), activation=lrelu, padding = 'same'))\n",
    "\n",
    "model2C.add(layers.Flatten())\n",
    "model2C.add(layers.Dense(1, activation='sigmoid'))"
   ]
  },
  {
   "cell_type": "markdown",
   "metadata": {},
   "source": [
    "### Sigmoid for categorical "
   ]
  },
  {
   "cell_type": "code",
   "execution_count": 10,
   "metadata": {},
   "outputs": [],
   "source": [
    "model2D = models.Sequential()\n",
    "\n",
    "model2D.add(layers.Conv2D(64, (3, 3), activation=lrelu, padding ='same' ,input_shape=(16, 16, 3)))\n",
    "model2D.add(layers.MaxPooling2D((2,2)))\n",
    "model2D.add(layers.Conv2D(64, (3, 3), activation=lrelu, padding = 'same'))\n",
    "model2D.add(layers.MaxPooling2D((2, 2)))\n",
    "\n",
    "model2D.add(layers.Conv2D(128, (3, 3), activation=lrelu, padding = 'same'))\n",
    "model2D.add(layers.MaxPooling2D((2, 2)))\n",
    "model2D.add(layers.Conv2D(128, (3, 3), activation=lrelu, padding = 'same'))\n",
    "model2D.add(layers.MaxPooling2D((2, 2)))\n",
    "\n",
    "model2D.add(layers.Conv2D(256, (3, 3), activation=lrelu, padding = 'same'))\n",
    "\n",
    "model2D.add(layers.Flatten())\n",
    "model2D.add(layers.Dense(2, activation='sigmoid'))"
   ]
  },
  {
   "cell_type": "markdown",
   "metadata": {},
   "source": [
    "## Model 3 - mirror padding added to model 2 and layers added "
   ]
  },
  {
   "cell_type": "code",
   "execution_count": 13,
   "metadata": {},
   "outputs": [],
   "source": [
    "pad1 = [[2,2], [2,2], [2,2], [2,2]]\n",
    "Model3_input = keras.Input(shape=(16, 16, 3))"
   ]
  },
  {
   "cell_type": "markdown",
   "metadata": {},
   "source": [
    "### Softmax for binary "
   ]
  },
  {
   "cell_type": "code",
   "execution_count": 14,
   "metadata": {},
   "outputs": [],
   "source": [
    "_3A = layers.Lambda(lambda y: tf.pad(y, paddings = pad1, mode = 'REFLECT'))(Model3_input)\n",
    "_3A = layers.Conv2D(64,(3,3), activation = lrelu, padding = 'valid')(_3A)\n",
    "_3A = layers.Lambda(lambda y: tf.pad(y, paddings = pad1, mode = 'REFLECT'))(_3A)\n",
    "_3A = layers.MaxPooling2D((3,3))(_3A)\n",
    "\n",
    "_3A = layers.Lambda(lambda y: tf.pad(y, paddings = pad1, mode = 'REFLECT'))(_3A)\n",
    "_3A = layers.Conv2D(64,(3,3), activation = lrelu, padding = 'valid')(_3A)\n",
    "_3A = layers.Lambda(lambda y: tf.pad(y, paddings = pad1, mode = 'REFLECT'))(_3A)\n",
    "_3A = layers.MaxPooling2D((3,3))(_3A)\n",
    "\n",
    "_3A = layers.Lambda(lambda y: tf.pad(y, paddings = pad1, mode = 'REFLECT'))(_3A)\n",
    "_3A = layers.Conv2D(128, (3, 3), activation=lrelu, padding = 'valid')(_3A)\n",
    "_3A = layers.Lambda(lambda y: tf.pad(y, paddings = pad1, mode = 'REFLECT'))(_3A)\n",
    "_3A = layers.MaxPooling2D((3, 3))(_3A)\n",
    "_3A = layers.Lambda(lambda y: tf.pad(y, paddings = pad1, mode = 'REFLECT'))(_3A)\n",
    "_3A = layers.Conv2D(128, (3, 3), activation=lrelu, padding = 'valid')(_3A)\n",
    "_3A = layers.Lambda(lambda y: tf.pad(y, paddings = pad1, mode = 'REFLECT'))(_3A)\n",
    "_3A = layers.MaxPooling2D((3, 3))(_3A)\n",
    "\n",
    "\n",
    "_3A = layers.Conv2D(256, (3, 3), activation=lrelu, padding = 'same')(_3A)\n",
    "_3A = layers.Flatten()(_3A)\n",
    "_3A = layers.Dense(256, activation=lrelu)(_3A)\n",
    "Model3A_output = layers.Dense(1, activation='softmax')(_3A)\n",
    "\n",
    "model3A = keras.Model(inputs=Model3_input, outputs=Model3A_output, name='Model 3A')"
   ]
  },
  {
   "cell_type": "code",
   "execution_count": null,
   "metadata": {},
   "outputs": [],
   "source": []
  },
  {
   "cell_type": "code",
   "execution_count": null,
   "metadata": {},
   "outputs": [],
   "source": []
  },
  {
   "cell_type": "code",
   "execution_count": null,
   "metadata": {},
   "outputs": [],
   "source": []
  },
  {
   "cell_type": "markdown",
   "metadata": {},
   "source": [
    "### Softmax for categorical "
   ]
  },
  {
   "cell_type": "code",
   "execution_count": 15,
   "metadata": {},
   "outputs": [],
   "source": [
    "_3B = layers.Lambda(lambda y: tf.pad(y, paddings = pad1, mode = 'REFLECT'))(Model3_input)\n",
    "_3B = layers.Conv2D(64,(3,3), activation = lrelu, padding = 'valid')(_3B)\n",
    "_3B = layers.Lambda(lambda y: tf.pad(y, paddings = pad1, mode = 'REFLECT'))(_3B)\n",
    "_3B = layers.MaxPooling2D((3,3))(_3B)\n",
    "\n",
    "_3B = layers.Lambda(lambda y: tf.pad(y, paddings = pad1, mode = 'REFLECT'))(_3B)\n",
    "_3B = layers.Conv2D(64,(3,3), activation = lrelu, padding = 'valid')(_3B)\n",
    "_3B = layers.Lambda(lambda y: tf.pad(y, paddings = pad1, mode = 'REFLECT'))(_3B)\n",
    "_3B = layers.MaxPooling2D((3,3))(_3B)\n",
    "\n",
    "_3B = layers.Lambda(lambda y: tf.pad(y, paddings = pad1, mode = 'REFLECT'))(_3B)\n",
    "_3B= layers.Conv2D(128, (3, 3), activation=lrelu, padding = 'valid')(_3B)\n",
    "_3B = layers.Lambda(lambda y: tf.pad(y, paddings = pad1, mode = 'REFLECT'))(_3B)\n",
    "_3B = layers.MaxPooling2D((3, 3))(_3B)\n",
    "_3B = layers.Lambda(lambda y: tf.pad(y, paddings = pad1, mode = 'REFLECT'))(_3B)\n",
    "_3B = layers.Conv2D(128, (3, 3), activation=lrelu, padding = 'valid')(_3B)\n",
    "_3B = layers.Lambda(lambda y: tf.pad(y, paddings = pad1, mode = 'REFLECT'))(_3B)\n",
    "_3B = layers.MaxPooling2D((3, 3))(_3B)\n",
    "\n",
    "\n",
    "_3B = layers.Conv2D(256, (3, 3), activation=lrelu, padding = 'same')(_3B)\n",
    "_3B = layers.Flatten()(_3B)\n",
    "_3B = layers.Dense(256, activation=lrelu)(_3B)\n",
    "Model3B_output = layers.Dense(2, activation='softmax')(_3B)\n",
    "\n",
    "model3B = keras.Model(inputs=Model3_input, outputs=Model3B_output, name='Model 3B')"
   ]
  },
  {
   "cell_type": "markdown",
   "metadata": {},
   "source": [
    "### Sigmoid for binary "
   ]
  },
  {
   "cell_type": "code",
   "execution_count": 16,
   "metadata": {},
   "outputs": [],
   "source": [
    "_3C = layers.Lambda(lambda y: tf.pad(y, paddings = pad1, mode = 'REFLECT'))(Model3_input)\n",
    "_3C = layers.Conv2D(64,(3,3), activation = lrelu, padding = 'valid')(_3C)\n",
    "_3C = layers.Lambda(lambda y: tf.pad(y, paddings = pad1, mode = 'REFLECT'))(_3C)\n",
    "_3C = layers.MaxPooling2D((3,3))(_3C)\n",
    "\n",
    "_3C = layers.Lambda(lambda y: tf.pad(y, paddings = pad1, mode = 'REFLECT'))(_3C)\n",
    "_3C = layers.Conv2D(64,(3,3), activation = lrelu, padding = 'valid')(_3C)\n",
    "_3C = layers.Lambda(lambda y: tf.pad(y, paddings = pad1, mode = 'REFLECT'))(_3C)\n",
    "_3C = layers.MaxPooling2D((3,3))(_3C)\n",
    "\n",
    "_3C = layers.Lambda(lambda y: tf.pad(y, paddings = pad1, mode = 'REFLECT'))(_3C)\n",
    "_3C = layers.Conv2D(128, (3, 3), activation=lrelu, padding = 'valid')(_3C)\n",
    "_3C = layers.Lambda(lambda y: tf.pad(y, paddings = pad1, mode = 'REFLECT'))(_3C)\n",
    "_3C = layers.MaxPooling2D((3, 3))(_3C)\n",
    "_3C = layers.Lambda(lambda y: tf.pad(y, paddings = pad1, mode = 'REFLECT'))(_3C)\n",
    "_3C = layers.Conv2D(128, (3, 3), activation=lrelu, padding = 'valid')(_3C)\n",
    "_3C = layers.Lambda(lambda y: tf.pad(y, paddings = pad1, mode = 'REFLECT'))(_3C)\n",
    "_3C = layers.MaxPooling2D((3, 3))(_3C)\n",
    "\n",
    "\n",
    "_3C = layers.Conv2D(256, (3, 3), activation=lrelu, padding = 'same')(_3C)\n",
    "_3C = layers.Flatten()(_3C)\n",
    "_3C = layers.Dense(256, activation=lrelu)(_3C)\n",
    "Model3C_output = layers.Dense(1, activation='sigmoid')(_3C)\n",
    "\n",
    "model3C = keras.Model(inputs=Model3_input, outputs=Model3C_output, name='Model 3C')"
   ]
  },
  {
   "cell_type": "markdown",
   "metadata": {},
   "source": [
    "### Sigmoid for categorical "
   ]
  },
  {
   "cell_type": "code",
   "execution_count": 17,
   "metadata": {},
   "outputs": [],
   "source": [
    "_3D = layers.Lambda(lambda y: tf.pad(y, paddings = pad1, mode = 'REFLECT'))(Model3_input)\n",
    "_3D = layers.Conv2D(64,(3,3), activation = lrelu, padding = 'valid')(_3D)\n",
    "_3D = layers.Lambda(lambda y: tf.pad(y, paddings = pad1, mode = 'REFLECT'))(_3D)\n",
    "_3D = layers.MaxPooling2D((3,3))(_3D)\n",
    "\n",
    "_3D = layers.Lambda(lambda y: tf.pad(y, paddings = pad1, mode = 'REFLECT'))(_3D)\n",
    "_3D = layers.Conv2D(64,(3,3), activation = lrelu, padding = 'valid')(_3D)\n",
    "_3D = layers.Lambda(lambda y: tf.pad(y, paddings = pad1, mode = 'REFLECT'))(_3D)\n",
    "_3D = layers.MaxPooling2D((3,3))(_3D)\n",
    "\n",
    "_3D = layers.Lambda(lambda y: tf.pad(y, paddings = pad1, mode = 'REFLECT'))(_3D)\n",
    "_3D= layers.Conv2D(128, (3, 3), activation=lrelu, padding = 'valid')(_3D)\n",
    "_3D = layers.Lambda(lambda y: tf.pad(y, paddings = pad1, mode = 'REFLECT'))(_3D)\n",
    "_3D = layers.MaxPooling2D((3, 3))(_3D)\n",
    "_3D = layers.Lambda(lambda y: tf.pad(y, paddings = pad1, mode = 'REFLECT'))(_3D)\n",
    "_3D = layers.Conv2D(128, (3, 3), activation=lrelu, padding = 'valid')(_3D)\n",
    "_3D = layers.Lambda(lambda y: tf.pad(y, paddings = pad1, mode = 'REFLECT'))(_3D)\n",
    "_3D = layers.MaxPooling2D((3, 3))(_3D)\n",
    "\n",
    "\n",
    "_3D = layers.Conv2D(256, (3, 3), activation=lrelu, padding = 'same')(_3D)\n",
    "_3D = layers.Flatten()(_3D)\n",
    "_3D = layers.Dense(256, activation=lrelu)(_3D)\n",
    "Model3D_output = layers.Dense(2, activation='sigmoid')(_3D)\n",
    "\n",
    "model3D = keras.Model(inputs=Model3_input, outputs=Model3D_output, name='Model 3D')"
   ]
  },
  {
   "cell_type": "code",
   "execution_count": null,
   "metadata": {},
   "outputs": [],
   "source": []
  }
 ],
 "metadata": {
  "kernelspec": {
   "display_name": "Python 3",
   "language": "python",
   "name": "python3"
  },
  "language_info": {
   "codemirror_mode": {
    "name": "ipython",
    "version": 3
   },
   "file_extension": ".py",
   "mimetype": "text/x-python",
   "name": "python",
   "nbconvert_exporter": "python",
   "pygments_lexer": "ipython3",
   "version": "3.7.3"
  }
 },
 "nbformat": 4,
 "nbformat_minor": 4
}
