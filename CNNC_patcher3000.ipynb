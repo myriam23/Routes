{
 "cells": [
  {
   "cell_type": "code",
   "execution_count": 3,
   "metadata": {
    "colab": {
     "base_uri": "https://localhost:8080/",
     "height": 34
    },
    "colab_type": "code",
    "executionInfo": {
     "elapsed": 1340,
     "status": "ok",
     "timestamp": 1576261309846,
     "user": {
      "displayName": "Cindy Leyvraz",
      "photoUrl": "",
      "userId": "12018256886595068577"
     },
     "user_tz": -60
    },
    "id": "r4wy9Ac1CHc0",
    "outputId": "932cb2a4-6b34-427d-d63d-78846c501148"
   },
   "outputs": [
    {
     "name": "stdout",
     "output_type": "stream",
     "text": [
      "/content/drive/My Drive/Colab Notebooks/Road_seg\n"
     ]
    }
   ],
   "source": [
    "cd drive/'My Drive'/'Colab Notebooks'/Road_seg"
   ]
  },
  {
   "cell_type": "code",
   "execution_count": 1,
   "metadata": {
    "colab": {
     "base_uri": "https://localhost:8080/",
     "height": 80
    },
    "colab_type": "code",
    "executionInfo": {
     "elapsed": 6070,
     "status": "ok",
     "timestamp": 1576261314590,
     "user": {
      "displayName": "Cindy Leyvraz",
      "photoUrl": "",
      "userId": "12018256886595068577"
     },
     "user_tz": -60
    },
    "id": "OnjZT0PsB5bo",
    "outputId": "0bc33f99-ae18-443c-97d3-a7556c4d6cdd"
   },
   "outputs": [],
   "source": [
    "import numpy as np\n",
    "import matplotlib.pyplot as plt\n",
    "import matplotlib.image as mpimg\n",
    "import tensorflow as tf\n",
    "\n",
    "from tensorflow import keras\n",
    "import os,sys\n",
    "import albumentations as albu\n",
    "from PIL import Image\n",
    "\n",
    "%load_ext autoreload\n",
    "%autoreload 2"
   ]
  },
  {
   "cell_type": "markdown",
   "metadata": {
    "colab_type": "text",
    "id": "E5kLYc9yB5br"
   },
   "source": [
    "# Loading the dataset"
   ]
  },
  {
   "cell_type": "code",
   "execution_count": 2,
   "metadata": {
    "colab": {},
    "colab_type": "code",
    "id": "Ot8dMTi_B5bs"
   },
   "outputs": [
    {
     "name": "stderr",
     "output_type": "stream",
     "text": [
      "Using TensorFlow backend.\n"
     ]
    }
   ],
   "source": [
    "import helper"
   ]
  },
  {
   "cell_type": "code",
   "execution_count": 4,
   "metadata": {
    "colab": {},
    "colab_type": "code",
    "id": "VVz22Be6DdVR"
   },
   "outputs": [],
   "source": [
    "def patcher_3000(img, cp_size, p_size):\n",
    "    list_patches = []\n",
    "    padding = int((p_size - cp_size) / 2)\n",
    "    padded_img = np.pad(img, ((padding, padding),(padding, padding), (0,0)), mode='symmetric')\n",
    "\n",
    "    imgwidth = img.shape[0]\n",
    "    imgheight = img.shape[1]\n",
    "\n",
    "    for i in range(0, imgheight, cp_size):\n",
    "        for j in range(0, imgwidth, cp_size):\n",
    "            im_patch = padded_img[j:j+cp_size+2*padding, i:i+cp_size+2*padding, :]\n",
    "            list_patches.append(im_patch)\n",
    "            \n",
    "    \n",
    "    return list_patches"
   ]
  },
  {
   "cell_type": "code",
   "execution_count": 5,
   "metadata": {
    "colab": {
     "base_uri": "https://localhost:8080/",
     "height": 51
    },
    "colab_type": "code",
    "executionInfo": {
     "elapsed": 76706,
     "status": "ok",
     "timestamp": 1576261385253,
     "user": {
      "displayName": "Cindy Leyvraz",
      "photoUrl": "",
      "userId": "12018256886595068577"
     },
     "user_tz": -60
    },
    "id": "FZhYu2xdB5bu",
    "outputId": "fff5fb37-383e-4853-8257-9975b5d1dda4"
   },
   "outputs": [
    {
     "name": "stdout",
     "output_type": "stream",
     "text": [
      "Loading 100 images\n",
      "Loading 100 images\n"
     ]
    }
   ],
   "source": [
    "# Loaded a set of images\n",
    "root_dir = \"Datasets/training/\"\n",
    "\n",
    "n = 100\n",
    "\n",
    "image_dir = root_dir + \"images/\"\n",
    "files = os.listdir(image_dir)\n",
    "print(\"Loading \" + str(n) + \" images\")\n",
    "imgs = [helper.load_image(image_dir + files[i]) for i in range(n)]\n",
    "\n",
    "gt_dir = root_dir + \"groundtruth/\"\n",
    "print(\"Loading \" + str(n) + \" images\")\n",
    "gt_imgs = [helper.load_image(gt_dir + files[i]) for i in range(n)]"
   ]
  },
  {
   "cell_type": "markdown",
   "metadata": {
    "colab_type": "text",
    "id": "zeRItWMLB5bw"
   },
   "source": [
    "#### Data Augmentation\n",
    "##### From https://towardsdatascience.com/road-detection-using-segmentation-models-and-albumentations-libraries-on-keras-d5434eaf73a8\n"
   ]
  },
  {
   "cell_type": "code",
   "execution_count": null,
   "metadata": {
    "colab": {},
    "colab_type": "code",
    "id": "d1pdpsjhB5bx"
   },
   "outputs": [],
   "source": [
    "#Doubles the nb of images. Needs improvement\n",
    "#for i in range(2):\n",
    "  for n in range(len(gt_imgs)):\n",
    "    augmented = helperC.image_augmentation(image_size = 256)(image=imgs[n], mask=gt_imgs[n])\n",
    "    imgs.append(augmented['image'])\n",
    "    gt_imgs.append(augmented['mask'])"
   ]
  },
  {
   "cell_type": "code",
   "execution_count": null,
   "metadata": {
    "colab": {},
    "colab_type": "code",
    "id": "Ub9-4peCB5bz"
   },
   "outputs": [],
   "source": [
    "# Extract patches from input images\n",
    "patch_size = 16 # each patch is 16*16 pixels\n",
    "window_size=100\n",
    "img_patches = [patcher_3000(imgs[i], patch_size, window_size) for i in range(len(imgs))]\n",
    "gt_patches = [helperC.img_crop(gt_imgs[i], patch_size, patch_size) for i in range(len(gt_imgs))]\n",
    "\n",
    "# Linearize list of patches\n",
    "img_patches = np.asarray([img_patches[i][j] for i in range(len(img_patches)) for j in range(len(img_patches[i]))])\n",
    "gt_patches =  np.asarray([gt_patches[i][j] for i in range(len(gt_patches)) for j in range(len(gt_patches[i]))])\n",
    "gt_patches = helperC.patches_labelization(gt_patches)"
   ]
  },
  {
   "cell_type": "code",
   "execution_count": 10,
   "metadata": {
    "colab": {
     "base_uri": "https://localhost:8080/",
     "height": 34
    },
    "colab_type": "code",
    "executionInfo": {
     "elapsed": 82335,
     "status": "ok",
     "timestamp": 1576261390938,
     "user": {
      "displayName": "Cindy Leyvraz",
      "photoUrl": "",
      "userId": "12018256886595068577"
     },
     "user_tz": -60
    },
    "id": "2N4UibwXTd8_",
    "outputId": "780ce649-4492-461b-c522-5c9288266c7e"
   },
   "outputs": [
    {
     "name": "stdout",
     "output_type": "stream",
     "text": [
      "(125000, 100, 100, 3)\n"
     ]
    }
   ],
   "source": [
    "print(img_patches.shape)"
   ]
  },
  {
   "cell_type": "markdown",
   "metadata": {
    "colab_type": "text",
    "id": "KmhEKpT4B5b0"
   },
   "source": [
    "## Feature processing "
   ]
  },
  {
   "cell_type": "markdown",
   "metadata": {
    "colab_type": "text",
    "id": "WxwmZIZzB5b1"
   },
   "source": [
    "#### Balancing amount of patches  background vs road for training"
   ]
  },
  {
   "cell_type": "code",
   "execution_count": null,
   "metadata": {
    "colab": {},
    "colab_type": "code",
    "id": "YR69LdrXB5b1"
   },
   "outputs": [],
   "source": [
    "\n",
    "#img_patches, gt_patches = helper.feature_balancing(img_patches, gt_patches)\n",
    "#Works badly!"
   ]
  },
  {
   "cell_type": "markdown",
   "metadata": {
    "colab_type": "text",
    "id": "k1T67phnB5b3"
   },
   "source": [
    "# CNN"
   ]
  },
  {
   "cell_type": "code",
   "execution_count": null,
   "metadata": {
    "colab": {},
    "colab_type": "code",
    "id": "0H9_-Bl0B5b4"
   },
   "outputs": [],
   "source": [
    "from tensorflow.keras import datasets, layers, models"
   ]
  },
  {
   "cell_type": "markdown",
   "metadata": {
    "colab_type": "text",
    "id": "7avgio7tB5b5"
   },
   "source": [
    "## Layers"
   ]
  },
  {
   "cell_type": "code",
   "execution_count": 13,
   "metadata": {
    "colab": {
     "base_uri": "https://localhost:8080/",
     "height": 105
    },
    "colab_type": "code",
    "executionInfo": {
     "elapsed": 82647,
     "status": "ok",
     "timestamp": 1576261391275,
     "user": {
      "displayName": "Cindy Leyvraz",
      "photoUrl": "",
      "userId": "12018256886595068577"
     },
     "user_tz": -60
    },
    "id": "eyf0nqDjB5b6",
    "outputId": "3885c8a1-2b94-4835-9720-2196fffa496e"
   },
   "outputs": [
    {
     "name": "stdout",
     "output_type": "stream",
     "text": [
      "WARNING:tensorflow:From /usr/local/lib/python3.6/dist-packages/tensorflow_core/python/ops/resource_variable_ops.py:1630: calling BaseResourceVariable.__init__ (from tensorflow.python.ops.resource_variable_ops) with constraint is deprecated and will be removed in a future version.\n",
      "Instructions for updating:\n",
      "If using Keras pass *_constraint arguments to layers.\n"
     ]
    },
    {
     "name": "stderr",
     "output_type": "stream",
     "text": [
      "Using TensorFlow backend.\n"
     ]
    }
   ],
   "source": [
    "from keras.regularizers import l2\n",
    "\"\"\"model = models.Sequential()\n",
    "reg = 1e-6 # L2 regularization factor (used on weights, but not biases)\n",
    "### heavily(!) inspired from a previous project. Needs to be changed/optimized\n",
    "model.add(layers.Convolution2D(64, 5, 5, padding='same',input_shape=(16, 16, 3)))\n",
    "model.add(layers.LeakyReLU(alpha=0.1))\n",
    "model.add(layers.MaxPooling2D(pool_size=(2,2), padding='same'))\n",
    "model.add(layers.Dropout(0.25))\n",
    "model.add(layers.Convolution2D(128, 3, 3,padding='same'))\n",
    "model.add(layers.LeakyReLU(alpha=0.1))\n",
    "model.add(layers.MaxPooling2D(pool_size=(2,2), padding='same'))\n",
    "model.add(layers.Dropout(0.25))\n",
    "model.add(layers.Convolution2D(256, 3, 3, padding='same'))\n",
    "model.add(layers.LeakyReLU(alpha=0.1))\n",
    "model.add(layers.MaxPooling2D(pool_size=(2,2), padding='same'))\n",
    "model.add(layers.Dropout(0.25))\n",
    "model.add(layers.Convolution2D(256, 3, 3, padding='same'))\n",
    "model.add(layers.LeakyReLU(alpha=0.1))\n",
    "model.add(layers.MaxPooling2D(pool_size=(2,2), padding='same'))\n",
    "model.add(layers.Dropout(0.25))\n",
    "model.add(layers.Flatten())\n",
    "model.add(layers.Dense(128, kernel_regularizer=l2(reg))) # Fully connected layer (128 neurons)\n",
    "model.add(layers.LeakyReLU(alpha=0.1))\n",
    "model.add(layers.Dropout(0.5))\n",
    "model.add(layers.Dense(2, kernel_regularizer=l2(reg)))\n",
    "\"\"\"\n",
    "\n",
    "\"\"\"model = models.Sequential()\n",
    "\n",
    "model.add(layers.Conv2D(32, (2, 2), input_shape=(16, 16, 3)))\n",
    "model.add(layers.LeakyReLU(alpha=0.1))\n",
    "model.add(layers.MaxPooling2D((2, 2)))\n",
    "model.add(layers.Conv2D(64, (2, 2)))\n",
    "model.add(layers.LeakyReLU(alpha=0.1))\n",
    "model.add(layers.Conv2D(128, (2, 2)))\n",
    "model.add(layers.LeakyReLU(alpha=0.1))\n",
    "\n",
    "model.add(layers.MaxPooling2D((2, 2)))\n",
    "\n",
    "model.add(layers.Flatten())\n",
    "model.add(layers.Dense(64))\n",
    "model.add(layers.LeakyReLU(alpha=0.1))\n",
    "model.add(layers.Dense(2, activation='softmax'))\"\"\"\n",
    "model = models.Sequential()\n",
    "lrelu = lambda x: tf.keras.layers.LeakyReLU(alpha=0.1)(x)\n",
    "kernel_size3 = (3,3)\n",
    "kernel_size2 = (2,2)\n",
    "pool_size = (2,2)\n",
    "alpha_relu = 0.1\n",
    "regularizer = 1e-6\n",
    "shape = (window_size, window_size, 3)\n",
    "\n",
    "model.add(layers.Convolution2D(64,kernel_size2,activation = lrelu, input_shape=shape))\n",
    "model.add(layers.MaxPooling2D(pool_size))\n",
    "model.add(layers.Convolution2D(64, kernel_size2,activation = lrelu))\n",
    "model.add(layers.Dropout(0.1))\n",
    "model.add(layers.MaxPooling2D(pool_size))\n",
    "\n",
    "model.add(layers.Convolution2D(128, kernel_size2,activation = lrelu))\n",
    "model.add(layers.MaxPooling2D(pool_size))\n",
    "model.add(layers.Convolution2D(128,kernel_size2,activation = lrelu))\n",
    "model.add(layers.Dropout(0.1))\n",
    "model.add(layers.MaxPooling2D(pool_size))\n",
    "\n",
    "model.add(layers.Convolution2D(256,kernel_size2,activation = lrelu))\n",
    "model.add(layers.MaxPooling2D(pool_size))\n",
    "model.add(layers.Convolution2D(256,kernel_size2,activation = lrelu))\n",
    "model.add(layers.Dropout(0.1))\n",
    "\n",
    "model.add(layers.Flatten())\n",
    "model.add(layers.Dense(2, activation='softmax'))\n"
   ]
  },
  {
   "cell_type": "code",
   "execution_count": 14,
   "metadata": {
    "colab": {
     "base_uri": "https://localhost:8080/",
     "height": 697
    },
    "colab_type": "code",
    "executionInfo": {
     "elapsed": 82639,
     "status": "ok",
     "timestamp": 1576261391276,
     "user": {
      "displayName": "Cindy Leyvraz",
      "photoUrl": "",
      "userId": "12018256886595068577"
     },
     "user_tz": -60
    },
    "id": "jvU5rMaBB5b8",
    "outputId": "acbac3b6-bd95-43e0-c94c-5ede2c9621d4"
   },
   "outputs": [
    {
     "name": "stdout",
     "output_type": "stream",
     "text": [
      "Model: \"sequential\"\n",
      "_________________________________________________________________\n",
      "Layer (type)                 Output Shape              Param #   \n",
      "=================================================================\n",
      "conv2d (Conv2D)              (None, 99, 99, 64)        832       \n",
      "_________________________________________________________________\n",
      "max_pooling2d (MaxPooling2D) (None, 49, 49, 64)        0         \n",
      "_________________________________________________________________\n",
      "conv2d_1 (Conv2D)            (None, 48, 48, 64)        16448     \n",
      "_________________________________________________________________\n",
      "dropout (Dropout)            (None, 48, 48, 64)        0         \n",
      "_________________________________________________________________\n",
      "max_pooling2d_1 (MaxPooling2 (None, 24, 24, 64)        0         \n",
      "_________________________________________________________________\n",
      "conv2d_2 (Conv2D)            (None, 23, 23, 128)       32896     \n",
      "_________________________________________________________________\n",
      "max_pooling2d_2 (MaxPooling2 (None, 11, 11, 128)       0         \n",
      "_________________________________________________________________\n",
      "conv2d_3 (Conv2D)            (None, 10, 10, 128)       65664     \n",
      "_________________________________________________________________\n",
      "dropout_1 (Dropout)          (None, 10, 10, 128)       0         \n",
      "_________________________________________________________________\n",
      "max_pooling2d_3 (MaxPooling2 (None, 5, 5, 128)         0         \n",
      "_________________________________________________________________\n",
      "conv2d_4 (Conv2D)            (None, 4, 4, 256)         131328    \n",
      "_________________________________________________________________\n",
      "max_pooling2d_4 (MaxPooling2 (None, 2, 2, 256)         0         \n",
      "_________________________________________________________________\n",
      "conv2d_5 (Conv2D)            (None, 1, 1, 256)         262400    \n",
      "_________________________________________________________________\n",
      "dropout_2 (Dropout)          (None, 1, 1, 256)         0         \n",
      "_________________________________________________________________\n",
      "flatten (Flatten)            (None, 256)               0         \n",
      "_________________________________________________________________\n",
      "dense (Dense)                (None, 2)                 514       \n",
      "=================================================================\n",
      "Total params: 510,082\n",
      "Trainable params: 510,082\n",
      "Non-trainable params: 0\n",
      "_________________________________________________________________\n"
     ]
    }
   ],
   "source": [
    "model.summary()"
   ]
  },
  {
   "cell_type": "markdown",
   "metadata": {
    "colab_type": "text",
    "id": "invAaRVmB5b-"
   },
   "source": [
    "## Training"
   ]
  },
  {
   "cell_type": "code",
   "execution_count": null,
   "metadata": {
    "colab": {},
    "colab_type": "code",
    "id": "qvO3ocxrB5b_"
   },
   "outputs": [],
   "source": [
    "\n",
    "def generate_minibatch(X, Y, batch_size):\n",
    "    \"\"\"\n",
    "    Procedure for real-time minibatch creation and image augmentation.\n",
    "     This runs in a parallel thread while the model is being trained.\n",
    "    \"\"\"\n",
    "    Y = tf.keras.utils.to_categorical(Y, 2)\n",
    "    while 1:\n",
    "        # Generate one minibatch\n",
    "        X_batch = np.empty((batch_size, window_size,window_size, 3))\n",
    "        Y_batch = np.empty((batch_size, 2))\n",
    "        for i in range(batch_size):\n",
    "            # Select a random image\n",
    "            idx = np.random.choice(X.shape[0])\n",
    "                      \n",
    "            # The label does not depend on the image rotation/flip (provided that the rotation is in steps of 90°)\n",
    "            X_batch[i] = X[idx]\n",
    "            Y_batch[i] = Y[idx]\n",
    "        yield (X_batch, Y_batch)\n",
    "          "
   ]
  },
  {
   "cell_type": "code",
   "execution_count": null,
   "metadata": {
    "colab": {
     "base_uri": "https://localhost:8080/",
     "height": 799
    },
    "colab_type": "code",
    "id": "h61yTay3B5cA",
    "outputId": "bd05af73-0512-444d-e7d6-20bb9e79e1d7",
    "scrolled": true
   },
   "outputs": [
    {
     "name": "stdout",
     "output_type": "stream",
     "text": [
      "Epoch 1/25\n",
      "1954/1954 [==============================] - 56s 29ms/step - loss: 0.3138 - acc: 0.8560\n",
      "Epoch 2/25\n",
      "1954/1954 [==============================] - 52s 27ms/step - loss: 0.1426 - acc: 0.9435\n",
      "Epoch 3/25\n",
      "1954/1954 [==============================] - 52s 27ms/step - loss: 0.0972 - acc: 0.9628\n",
      "Epoch 4/25\n",
      "1954/1954 [==============================] - 52s 27ms/step - loss: 0.0727 - acc: 0.9727\n",
      "Epoch 5/25\n",
      "1954/1954 [==============================] - 52s 27ms/step - loss: 0.0589 - acc: 0.9785\n",
      "Epoch 6/25\n",
      "1954/1954 [==============================] - 53s 27ms/step - loss: 0.0505 - acc: 0.9820\n",
      "Epoch 7/25\n",
      "1954/1954 [==============================] - 52s 27ms/step - loss: 0.0438 - acc: 0.9843\n",
      "Epoch 8/25\n",
      "1954/1954 [==============================] - 52s 27ms/step - loss: 0.0410 - acc: 0.9855\n",
      "Epoch 9/25\n",
      "1954/1954 [==============================] - 52s 27ms/step - loss: 0.0370 - acc: 0.9869\n",
      "Epoch 10/25\n",
      "1954/1954 [==============================] - 52s 27ms/step - loss: 0.0337 - acc: 0.9884\n",
      "Epoch 11/25\n",
      "1954/1954 [==============================] - 52s 27ms/step - loss: 0.0319 - acc: 0.9886\n",
      "Epoch 12/25\n",
      "1954/1954 [==============================] - 53s 27ms/step - loss: 0.0305 - acc: 0.9895\n",
      "Epoch 13/25\n",
      "1954/1954 [==============================] - 52s 27ms/step - loss: 0.0296 - acc: 0.9898\n",
      "Epoch 14/25\n",
      "1954/1954 [==============================] - 52s 27ms/step - loss: 0.0290 - acc: 0.9902\n",
      "Epoch 15/25\n",
      "1954/1954 [==============================] - 52s 27ms/step - loss: 0.0257 - acc: 0.9912\n",
      "Epoch 16/25\n",
      "1954/1954 [==============================] - 52s 27ms/step - loss: 0.0272 - acc: 0.9911\n",
      "Epoch 17/25\n",
      "1954/1954 [==============================] - 53s 27ms/step - loss: 0.0246 - acc: 0.9917\n",
      "Epoch 18/25\n",
      "1954/1954 [==============================] - 53s 27ms/step - loss: 0.0257 - acc: 0.9913\n",
      "Epoch 19/25\n",
      "1954/1954 [==============================] - 52s 27ms/step - loss: 0.0237 - acc: 0.9920\n",
      "Epoch 20/25\n",
      "1954/1954 [==============================] - 53s 27ms/step - loss: 0.0228 - acc: 0.9923\n",
      "Epoch 21/25\n",
      "1954/1954 [==============================] - 52s 27ms/step - loss: 0.0233 - acc: 0.9927\n",
      "Epoch 22/25\n",
      "1954/1954 [==============================] - 52s 27ms/step - loss: 0.0220 - acc: 0.9927\n",
      "Epoch 23/25\n",
      "1405/1954 [====================>.........] - ETA: 14s - loss: 0.0225 - acc: 0.9925"
     ]
    }
   ],
   "source": [
    "import math\n",
    "\n",
    "batch_size = 64\n",
    "steps_per_epoch = math.ceil(img_patches.shape[0] / batch_size)\n",
    "\"\"\"def softmax_categorical_crossentropy(y_true, y_pred):\n",
    "       \n",
    "        Uses categorical cross-entropy from logits in order to improve numerical stability.\n",
    "        This is especially useful for TensorFlow (less useful for Theano).           \n",
    "        return K.categorical_crossentropy(y_pred, y_true, from_logits=True)\n",
    "    \"\"\"\n",
    "model.compile(loss = \"categorical_crossentropy\",  optimizer = keras.optimizers.Adam(lr=1e-3),\n",
    "              metrics = ['accuracy'])\n",
    "#Y = tf.keras.utils.to_categorical(gt_patches, 2)\n",
    "\n",
    "        \n",
    "#model.fit(img_patches, Y, batch_size = 64, epochs = 5, validation_split = 0.2)\n",
    "model.fit_generator(generate_minibatch(img_patches,gt_patches, batch_size),\n",
    "                    epochs=25, steps_per_epoch= steps_per_epoch)\n"
   ]
  },
  {
   "cell_type": "code",
   "execution_count": null,
   "metadata": {
    "colab": {},
    "colab_type": "code",
    "id": "CUMZ9jyxUGBx"
   },
   "outputs": [],
   "source": [
    "weights = model.get_weights()  # Retrieves the state of the model.\n",
    "#model.set_weights(weights)"
   ]
  },
  {
   "cell_type": "markdown",
   "metadata": {
    "colab_type": "text",
    "id": "a8gyqCvGB5cC"
   },
   "source": [
    "## Predictions"
   ]
  },
  {
   "cell_type": "code",
   "execution_count": null,
   "metadata": {
    "colab": {},
    "colab_type": "code",
    "id": "2dSKKOwwB5cD"
   },
   "outputs": [],
   "source": [
    "#predictions = model.predict(img_patches)\n",
    "#predictions = (predictions[:,0] < predictions[:,1]) * 1\n",
    "#predictions = np.squeeze(predictions)"
   ]
  },
  {
   "cell_type": "code",
   "execution_count": null,
   "metadata": {
    "colab": {},
    "colab_type": "code",
    "id": "eu490HUEB5cE"
   },
   "outputs": [],
   "source": [
    "#predictions = np.squeeze(helper.binarize_predictions(predictions))"
   ]
  },
  {
   "cell_type": "code",
   "execution_count": null,
   "metadata": {
    "colab": {},
    "colab_type": "code",
    "id": "QhqIafQxB5cG"
   },
   "outputs": [],
   "source": [
    "#np.set_printoptions(threshold=sys.maxsize)\n",
    "#print(predictions)"
   ]
  },
  {
   "cell_type": "markdown",
   "metadata": {
    "colab_type": "text",
    "id": "NclkNHCrB5cI"
   },
   "source": [
    "# Displaying predictions"
   ]
  },
  {
   "cell_type": "code",
   "execution_count": null,
   "metadata": {
    "colab": {},
    "colab_type": "code",
    "id": "tjqpesgYB5cI"
   },
   "outputs": [],
   "source": [
    "\"\"\"# Display prediction as an image\n",
    "img_idx = 2\n",
    "\n",
    "img_indexed = imgs[img_idx]\n",
    "img_pat = helper.img_crop(img_indexed, patch_size, patch_size)\n",
    "img_pat = np.asarray(img_pat)\n",
    "prediction = model.predict(img_pat)\n",
    "\n",
    "w = gt_imgs[img_idx].shape[0]\n",
    "h = gt_imgs[img_idx].shape[1]\n",
    "predicted_im = helper.label_to_img_array(w, h, patch_size, patch_size, helper.binarize_predictions(prediction))\n",
    "cimg = helper.concatenate_images(imgs[img_idx], predicted_im)\n",
    "fig1 = plt.figure(figsize=(10, 10)) # create a figure with the default size \n",
    "plt.imshow(cimg, cmap='Greys_r')\n",
    "\n",
    "new_img = helper.make_img_overlay(imgs[img_idx], predicted_im)\n",
    "\n",
    "#plt.imshow(new_img)\"\"\""
   ]
  },
  {
   "cell_type": "markdown",
   "metadata": {
    "colab_type": "text",
    "id": "Bb6VhHHEB5cK"
   },
   "source": [
    "# Create Submission"
   ]
  },
  {
   "cell_type": "code",
   "execution_count": 6,
   "metadata": {
    "colab": {},
    "colab_type": "code",
    "id": "SpwYMdMsB5cK",
    "scrolled": true
   },
   "outputs": [],
   "source": [
    "import submission as sub"
   ]
  },
  {
   "cell_type": "code",
   "execution_count": 9,
   "metadata": {
    "colab": {},
    "colab_type": "code",
    "id": "xWYtgEpQB5cM",
    "scrolled": true
   },
   "outputs": [
    {
     "ename": "IndexError",
     "evalue": "list index out of range",
     "output_type": "error",
     "traceback": [
      "\u001b[1;31m---------------------------------------------------------------------------\u001b[0m",
      "\u001b[1;31mIndexError\u001b[0m                                Traceback (most recent call last)",
      "\u001b[1;32m<ipython-input-9-7dedc8121250>\u001b[0m in \u001b[0;36m<module>\u001b[1;34m\u001b[0m\n\u001b[0;32m      8\u001b[0m     \u001b[0mimg_test\u001b[0m\u001b[1;33m.\u001b[0m\u001b[0mappend\u001b[0m\u001b[1;33m(\u001b[0m\u001b[0mhelper\u001b[0m\u001b[1;33m.\u001b[0m\u001b[0mload_image\u001b[0m\u001b[1;33m(\u001b[0m\u001b[0mimage_filename\u001b[0m\u001b[1;33m)\u001b[0m\u001b[1;33m)\u001b[0m\u001b[1;33m\u001b[0m\u001b[1;33m\u001b[0m\u001b[0m\n\u001b[0;32m      9\u001b[0m \u001b[1;33m\u001b[0m\u001b[0m\n\u001b[1;32m---> 10\u001b[1;33m     \u001b[0mimg_patches_test\u001b[0m \u001b[1;33m=\u001b[0m \u001b[1;33m[\u001b[0m\u001b[0mpatcher_3000\u001b[0m\u001b[1;33m(\u001b[0m\u001b[0mimg_test\u001b[0m\u001b[1;33m[\u001b[0m\u001b[0mi\u001b[0m\u001b[1;33m]\u001b[0m\u001b[1;33m,\u001b[0m \u001b[0mpatch_size\u001b[0m\u001b[1;33m,\u001b[0m \u001b[0mwindow_size\u001b[0m\u001b[1;33m)\u001b[0m \u001b[1;32mfor\u001b[0m \u001b[0mi\u001b[0m \u001b[1;32min\u001b[0m \u001b[0mrange\u001b[0m\u001b[1;33m(\u001b[0m\u001b[0mn\u001b[0m\u001b[1;33m)\u001b[0m\u001b[1;33m]\u001b[0m\u001b[1;33m\u001b[0m\u001b[1;33m\u001b[0m\u001b[0m\n\u001b[0m\u001b[0;32m     11\u001b[0m img_patches_test = np.asarray([img_patches_test[i][j] for i in range(len(img_patches_test))\n\u001b[0;32m     12\u001b[0m                                for j in range(len(img_patches_test[i]))])\n",
      "\u001b[1;32m<ipython-input-9-7dedc8121250>\u001b[0m in \u001b[0;36m<listcomp>\u001b[1;34m(.0)\u001b[0m\n\u001b[0;32m      8\u001b[0m     \u001b[0mimg_test\u001b[0m\u001b[1;33m.\u001b[0m\u001b[0mappend\u001b[0m\u001b[1;33m(\u001b[0m\u001b[0mhelper\u001b[0m\u001b[1;33m.\u001b[0m\u001b[0mload_image\u001b[0m\u001b[1;33m(\u001b[0m\u001b[0mimage_filename\u001b[0m\u001b[1;33m)\u001b[0m\u001b[1;33m)\u001b[0m\u001b[1;33m\u001b[0m\u001b[1;33m\u001b[0m\u001b[0m\n\u001b[0;32m      9\u001b[0m \u001b[1;33m\u001b[0m\u001b[0m\n\u001b[1;32m---> 10\u001b[1;33m     \u001b[0mimg_patches_test\u001b[0m \u001b[1;33m=\u001b[0m \u001b[1;33m[\u001b[0m\u001b[0mpatcher_3000\u001b[0m\u001b[1;33m(\u001b[0m\u001b[0mimg_test\u001b[0m\u001b[1;33m[\u001b[0m\u001b[0mi\u001b[0m\u001b[1;33m]\u001b[0m\u001b[1;33m,\u001b[0m \u001b[0mpatch_size\u001b[0m\u001b[1;33m,\u001b[0m \u001b[0mwindow_size\u001b[0m\u001b[1;33m)\u001b[0m \u001b[1;32mfor\u001b[0m \u001b[0mi\u001b[0m \u001b[1;32min\u001b[0m \u001b[0mrange\u001b[0m\u001b[1;33m(\u001b[0m\u001b[0mn\u001b[0m\u001b[1;33m)\u001b[0m\u001b[1;33m]\u001b[0m\u001b[1;33m\u001b[0m\u001b[1;33m\u001b[0m\u001b[0m\n\u001b[0m\u001b[0;32m     11\u001b[0m img_patches_test = np.asarray([img_patches_test[i][j] for i in range(len(img_patches_test))\n\u001b[0;32m     12\u001b[0m                                for j in range(len(img_patches_test[i]))])\n",
      "\u001b[1;31mIndexError\u001b[0m: list index out of range"
     ]
    }
   ],
   "source": [
    "n = 50\n",
    "patch_size = 16 \n",
    "window_size = 100\n",
    "img_test = []\n",
    "\n",
    "for i in range(1, 51):\n",
    "    image_filename = 'Datasets/test_set_images/test_' + str(i) + '/test_' + str(i) + '.png' \n",
    "    img_test.append(helper.load_image(image_filename))\n",
    "\n",
    "    img_patches_test = [patcher_3000(img_test[i], patch_size, window_size) for i in range(n)]\n",
    "img_patches_test = np.asarray([img_patches_test[i][j] for i in range(len(img_patches_test))\n",
    "                               for j in range(len(img_patches_test[i]))])"
   ]
  },
  {
   "cell_type": "code",
   "execution_count": null,
   "metadata": {},
   "outputs": [],
   "source": [
    "new_model = keras.models.load_model('saved_M1_fit_SoftmaxCategorical_shuffle_15.h5')"
   ]
  },
  {
   "cell_type": "code",
   "execution_count": null,
   "metadata": {
    "colab": {},
    "colab_type": "code",
    "id": "gzc9VHcmB5cN",
    "scrolled": true
   },
   "outputs": [],
   "source": [
    "predictions = new_model.predict(img_patches_test)\n",
    "#predictions = np.squeeze(helper.binarize_predictions(predictions))\n",
    "print(predictions.shape)\n",
    "#print(predictions[10])\n"
   ]
  },
  {
   "cell_type": "code",
   "execution_count": null,
   "metadata": {
    "colab": {},
    "colab_type": "code",
    "id": "wafVyLKiB5cR"
   },
   "outputs": [],
   "source": [
    "\n",
    "\n",
    "\"\"\"np.set_printoptions(threshold=sys.maxsize)\n",
    "print(predictions.shape)\n",
    "print(predictions)\n",
    "\"\"\""
   ]
  },
  {
   "cell_type": "markdown",
   "metadata": {
    "colab_type": "text",
    "id": "xnl-WrY_B5cT"
   },
   "source": [
    "### Post-processing"
   ]
  },
  {
   "cell_type": "code",
   "execution_count": null,
   "metadata": {
    "colab": {},
    "colab_type": "code",
    "id": "Y_lGVYBceIwe"
   },
   "outputs": [],
   "source": [
    "import cv2\n",
    "def morphological(img):\n",
    "    kernel = np.ones((17,17),np.uint8)\n",
    "    op = cv2.morphologyEx(img,cv2.MORPH_OPEN, kernel)\n",
    "    cl = cv2.morphologyEx(op,cv2.MORPH_CLOSE,kernel)   \n",
    "    return cl"
   ]
  },
  {
   "cell_type": "code",
   "execution_count": null,
   "metadata": {
    "colab": {},
    "colab_type": "code",
    "id": "e7ET4ZnYB5cU"
   },
   "outputs": [],
   "source": [
    "\n",
    "prediction_patches =[]\n",
    "#predictions = np.squeeze(helper.binarize_predictions(predictions))\n",
    "predictions = (predictions[:,0] < predictions[:,1]) * 1\n",
    "predictions = np.squeeze(predictions)\n",
    "for i in range(50):\n",
    "    #predictions = np.squeeze(helper.binarize_predictions(predictions))\n",
    "    #prediction = helper.binarize_predictions_array(predictions[i*1444 :((i*1444)+1444)])\n",
    "    prediction = helperC.label_to_img_patches_test(predictions[i*1444 :((i*1444)+1444)])\n",
    "    #prediction = helperC.combine_surounded_patches(prediction) #Which order? Is it even useful. \n",
    "    #prediction = helperC.remove_lonely_patches(prediction)\n",
    "    prediction = morphological(prediction)\n",
    "    #prediction = morphological(prediction)\n",
    "    prediction_patches.append(prediction) \n"
   ]
  },
  {
   "cell_type": "code",
   "execution_count": null,
   "metadata": {
    "colab": {},
    "colab_type": "code",
    "id": "MFKfLS9DB5cV",
    "scrolled": true
   },
   "outputs": [],
   "source": [
    "\n",
    "img_patches_test_mod = [helperC.img_crop(prediction_patches[i], 1, 1)\n",
    "                        for i in range(len(prediction_patches))]\n",
    "\n",
    "img_patches_test_mod =  np.asarray([img_patches_test_mod[i][j] for i in range(len(img_patches_test_mod))\n",
    "                                     for j in range(len(img_patches_test_mod[i]))])\n",
    "\n",
    "\"\"\"img_patches_test_mod = np.asarray([prediction_patches[i][j] for i in range(len(prediction_patches)) \n",
    "                               for j in range(len(prediction_patches[i]))])\"\"\"\n",
    "\n",
    "predictions_mod = np.squeeze(img_patches_test_mod)\n",
    "\n",
    "sub.create_pred_images(predictions_mod)\n"
   ]
  },
  {
   "cell_type": "code",
   "execution_count": null,
   "metadata": {
    "colab": {},
    "colab_type": "code",
    "id": "vEjo1kC2B5cX"
   },
   "outputs": [],
   "source": [
    "submission_filename = 'submission3.csv'\n",
    "   \n",
    "sub.create_submission(submission_filename)"
   ]
  },
  {
   "cell_type": "code",
   "execution_count": null,
   "metadata": {
    "colab": {},
    "colab_type": "code",
    "id": "vDqj8EmOB5ce"
   },
   "outputs": [],
   "source": [
    "#Just to have a look..\n",
    "print(img_patches_test_mod.shape)\n",
    "print(img_patches_test.shape)\n",
    "for i in range(25):\n",
    "    fig1 = plt.figure(figsize=(5, 5))\n",
    "    plt.imshow(prediction_patches[i], cmap='Greys_r')"
   ]
  },
  {
   "cell_type": "code",
   "execution_count": null,
   "metadata": {
    "colab": {},
    "colab_type": "code",
    "id": "uKWs0qqUB5cf"
   },
   "outputs": [],
   "source": [
    "for i in range(25):\n",
    "    fig1 = plt.figure(figsize=(5, 5))\n",
    "    plt.imshow(img_test[i])"
   ]
  },
  {
   "cell_type": "code",
   "execution_count": null,
   "metadata": {
    "colab": {},
    "colab_type": "code",
    "id": "oLo0LBhfB5cg"
   },
   "outputs": [],
   "source": []
  },
  {
   "cell_type": "code",
   "execution_count": null,
   "metadata": {
    "colab": {},
    "colab_type": "code",
    "id": "TOaB-kcbB5ci"
   },
   "outputs": [],
   "source": []
  },
  {
   "cell_type": "code",
   "execution_count": null,
   "metadata": {
    "colab": {},
    "colab_type": "code",
    "id": "_xsnRX-DB5cj"
   },
   "outputs": [],
   "source": []
  }
 ],
 "metadata": {
  "accelerator": "GPU",
  "colab": {
   "collapsed_sections": [],
   "machine_shape": "hm",
   "name": "CNNC_patcher3000.ipynb",
   "provenance": [
    {
     "file_id": "1v4w2Zu7Prn3-fXItceraTVuzlhxbWrhI",
     "timestamp": 1576237095356
    }
   ],
   "toc_visible": true
  },
  "kernelspec": {
   "display_name": "Python 3",
   "language": "python",
   "name": "python3"
  },
  "language_info": {
   "codemirror_mode": {
    "name": "ipython",
    "version": 3
   },
   "file_extension": ".py",
   "mimetype": "text/x-python",
   "name": "python",
   "nbconvert_exporter": "python",
   "pygments_lexer": "ipython3",
   "version": "3.7.3"
  }
 },
 "nbformat": 4,
 "nbformat_minor": 4
}
